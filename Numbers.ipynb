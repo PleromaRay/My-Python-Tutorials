{
 "cells": [
  {
   "cell_type": "code",
   "execution_count": 1,
   "id": "9c5f4b58",
   "metadata": {},
   "outputs": [
    {
     "data": {
      "text/plain": [
       "'22'"
      ]
     },
     "execution_count": 1,
     "metadata": {},
     "output_type": "execute_result"
    }
   ],
   "source": [
    "num = \"2\"\n",
    "num + num"
   ]
  },
  {
   "cell_type": "code",
   "execution_count": 2,
   "id": "949550bb",
   "metadata": {},
   "outputs": [
    {
     "data": {
      "text/plain": [
       "'121212'"
      ]
     },
     "execution_count": 2,
     "metadata": {},
     "output_type": "execute_result"
    }
   ],
   "source": [
    "num = \"12\"\n",
    "num * 3\n"
   ]
  },
  {
   "cell_type": "code",
   "execution_count": 3,
   "id": "e8beebe8",
   "metadata": {},
   "outputs": [
    {
     "data": {
      "text/plain": [
       "123.0"
      ]
     },
     "execution_count": 3,
     "metadata": {},
     "output_type": "execute_result"
    }
   ],
   "source": [
    "#To convert from a string type to a number type, use the int() or float () functions.\n",
    "#floating numbers float () always adds a decimal to the number\n",
    "float(123)\n"
   ]
  },
  {
   "cell_type": "code",
   "execution_count": 4,
   "id": "ecc9a3fb",
   "metadata": {},
   "outputs": [
    {
     "data": {
      "text/plain": [
       "25"
      ]
     },
     "execution_count": 4,
     "metadata": {},
     "output_type": "execute_result"
    }
   ],
   "source": [
    "int(25)\n"
   ]
  },
  {
   "cell_type": "code",
   "execution_count": 5,
   "id": "1e599363",
   "metadata": {},
   "outputs": [
    {
     "name": "stdout",
     "output_type": "stream",
     "text": [
      "10.0\n"
     ]
    }
   ],
   "source": [
    "num = input(\"Enter a number to be doubled: \")\n",
    "doubled_num = float(5) * 2\n",
    "print(doubled_num)"
   ]
  },
  {
   "cell_type": "code",
   "execution_count": 12,
   "id": "30df1236",
   "metadata": {},
   "outputs": [
    {
     "data": {
      "text/plain": [
       "'I am going to eat 10 potpies.'"
      ]
     },
     "execution_count": 12,
     "metadata": {},
     "output_type": "execute_result"
    }
   ],
   "source": [
    "#you can’t concatenate number with strings. To build strings with number you need to convert\n",
    "# the number to string using the it with the str() function\n",
    "num_of_potpies = 10\n",
    "\"I am going to eat \" + str(num_of_potpies) + \" potpies.\""
   ]
  },
  {
   "cell_type": "code",
   "execution_count": 45,
   "id": "4498c9a1",
   "metadata": {},
   "outputs": [
    {
     "data": {
      "text/plain": [
       "'Jibbs only drank 15 bottles of orange juice.'"
      ]
     },
     "execution_count": 45,
     "metadata": {},
     "output_type": "execute_result"
    }
   ],
   "source": [
    "total_orange_juice = 50\n",
    "total_orange_juice_left = 35\n",
    "\"Jibbs only drank \" + str(total_orange_juice - total_orange_juice_left) + \" bottles of orange juice.\""
   ]
  },
  {
   "cell_type": "code",
   "execution_count": 21,
   "id": "acff49c0",
   "metadata": {},
   "outputs": [
    {
     "data": {
      "text/plain": [
       "'Funsho has 2 heads and 4 hands.'"
      ]
     },
     "execution_count": 21,
     "metadata": {},
     "output_type": "execute_result"
    }
   ],
   "source": [
    "#String interpolation\n",
    "Heads = 2\n",
    "Hands = 4\n",
    "\"Funsho has \" +  str(Heads) + \" heads and \" + str(Hands) + \" hands.\"\n"
   ]
  },
  {
   "cell_type": "code",
   "execution_count": 24,
   "id": "920f881c",
   "metadata": {},
   "outputs": [
    {
     "data": {
      "text/plain": [
       "'Funsho has 2 heads and 4 hands.'"
      ]
     },
     "execution_count": 24,
     "metadata": {},
     "output_type": "execute_result"
    }
   ],
   "source": [
    "#f strings is a better way to interploate strings cleanly\n",
    "#f strings (formated string laterals)\n",
    "Heads = 2\n",
    "Hands = 4\n",
    "f\"Funsho has {Heads} heads and {Hands} hands.\"\n"
   ]
  },
  {
   "cell_type": "code",
   "execution_count": 25,
   "id": "54d667e9",
   "metadata": {},
   "outputs": [
    {
     "data": {
      "text/plain": [
       "'60'"
      ]
     },
     "execution_count": 25,
     "metadata": {},
     "output_type": "execute_result"
    }
   ],
   "source": [
    "n = 5\n",
    "w = 12\n",
    "f\"{n*w}\""
   ]
  },
  {
   "cell_type": "code",
   "execution_count": 35,
   "id": "597b60a8",
   "metadata": {},
   "outputs": [
    {
     "data": {
      "text/plain": [
       "'0.2 kg is the weight of the newt'"
      ]
     },
     "execution_count": 35,
     "metadata": {},
     "output_type": "execute_result"
    }
   ],
   "source": [
    "#Create a float object named weight with the value 0.2, and create a string object named animal \n",
    "# with the value \"newt\". Then use these objects to print the following string using only string \n",
    "# concatenation\n",
    "weight = float (0.2)\n",
    "animal = \"newt\"\n",
    "str(weight) + \" kg is the weight of the \" + (animal)"
   ]
  },
  {
   "cell_type": "code",
   "execution_count": 36,
   "id": "a27daa59",
   "metadata": {},
   "outputs": [
    {
     "data": {
      "text/plain": [
       "'0.2 is the weight of the newt'"
      ]
     },
     "execution_count": 36,
     "metadata": {},
     "output_type": "execute_result"
    }
   ],
   "source": [
    "#using and f-string\n",
    "f\"{weight} is the weight of the {animal}\" "
   ]
  },
  {
   "cell_type": "code",
   "execution_count": null,
   "id": "4953a892",
   "metadata": {},
   "outputs": [
    {
     "data": {
      "text/plain": [
       "46"
      ]
     },
     "execution_count": 39,
     "metadata": {},
     "output_type": "execute_result"
    }
   ],
   "source": [
    "#you can find a the location of a substring inside a string using the .find() function\n",
    "#if the substring is not n the phrase, python gives a -1 response.\n",
    "Phrase = \"Edet lives in Calabar, he is eight years old, everyday he goes to school.\"\n",
    "Phrase.find(\"everyday\")\n",
    " "
   ]
  },
  {
   "cell_type": "code",
   "execution_count": 43,
   "id": "6401c2cd",
   "metadata": {},
   "outputs": [
    {
     "data": {
      "text/plain": [
       "13"
      ]
     },
     "execution_count": 43,
     "metadata": {},
     "output_type": "execute_result"
    }
   ],
   "source": [
    "Phrase = \"We can put a string in a string\"\n",
    "Phrase.find(\"string\")"
   ]
  },
  {
   "cell_type": "code",
   "execution_count": 44,
   "id": "bb3a2a9c",
   "metadata": {},
   "outputs": [
    {
     "data": {
      "text/plain": [
       "13"
      ]
     },
     "execution_count": 44,
     "metadata": {},
     "output_type": "execute_result"
    }
   ],
   "source": [
    "#the .find() function can only locate strings and not integers.\n",
    "#to find an integer \n",
    "\"My number is 555-555-5555\".find(\"5\")"
   ]
  },
  {
   "cell_type": "code",
   "execution_count": 47,
   "id": "b754a4d2",
   "metadata": {},
   "outputs": [
    {
     "data": {
      "text/plain": [
       "\"I'm telling you lies; nothing but lies!\""
      ]
     },
     "execution_count": 47,
     "metadata": {},
     "output_type": "execute_result"
    }
   ],
   "source": [
    "my_story = \"I'm telling you the truth; nothing but the truth!\"\n",
    "my_story.replace(\"the truth\", \"lies\")"
   ]
  },
  {
   "cell_type": "code",
   "execution_count": 48,
   "id": "2573dab2",
   "metadata": {},
   "outputs": [
    {
     "data": {
      "text/plain": [
       "\"I'm telling you lies; nothing but lies!\""
      ]
     },
     "execution_count": 48,
     "metadata": {},
     "output_type": "execute_result"
    }
   ],
   "source": [
    "my_story = my_story.replace(\"the truth\", \"lies\")\n",
    "my_story"
   ]
  },
  {
   "cell_type": "code",
   "execution_count": 49,
   "id": "993209de",
   "metadata": {},
   "outputs": [
    {
     "data": {
      "text/plain": [
       "'Everyone you meet are friendly and great'"
      ]
     },
     "execution_count": 49,
     "metadata": {},
     "output_type": "execute_result"
    }
   ],
   "source": [
    "Text = \"Some people you meet are wonderful and great\"\n",
    "New_text = Text.replace(\"Some people\", \"Everyone\")\n",
    "New_text = New_text.replace(\"wonderful\", \"friendly\")\n",
    "New_text"
   ]
  }
 ],
 "metadata": {
  "kernelspec": {
   "display_name": "Python 3",
   "language": "python",
   "name": "python3"
  },
  "language_info": {
   "codemirror_mode": {
    "name": "ipython",
    "version": 3
   },
   "file_extension": ".py",
   "mimetype": "text/x-python",
   "name": "python",
   "nbconvert_exporter": "python",
   "pygments_lexer": "ipython3",
   "version": "3.13.7"
  }
 },
 "nbformat": 4,
 "nbformat_minor": 5
}
