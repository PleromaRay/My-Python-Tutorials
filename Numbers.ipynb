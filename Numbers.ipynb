{
 "cells": [
  {
   "cell_type": "code",
   "execution_count": 1,
   "id": "9c5f4b58",
   "metadata": {},
   "outputs": [
    {
     "data": {
      "text/plain": [
       "'22'"
      ]
     },
     "execution_count": 1,
     "metadata": {},
     "output_type": "execute_result"
    }
   ],
   "source": [
    "num = \"2\"\n",
    "num + num"
   ]
  },
  {
   "cell_type": "code",
   "execution_count": 2,
   "id": "949550bb",
   "metadata": {},
   "outputs": [
    {
     "data": {
      "text/plain": [
       "'121212'"
      ]
     },
     "execution_count": 2,
     "metadata": {},
     "output_type": "execute_result"
    }
   ],
   "source": [
    "num = \"12\"\n",
    "num * 3\n"
   ]
  },
  {
   "cell_type": "code",
   "execution_count": 3,
   "id": "e8beebe8",
   "metadata": {},
   "outputs": [
    {
     "data": {
      "text/plain": [
       "123.0"
      ]
     },
     "execution_count": 3,
     "metadata": {},
     "output_type": "execute_result"
    }
   ],
   "source": [
    "#To convert from a string type to a number type, use the int() or float () functions.\n",
    "#floating numbers float () always adds a decimal to the number\n",
    "float(123)\n"
   ]
  },
  {
   "cell_type": "code",
   "execution_count": 4,
   "id": "ecc9a3fb",
   "metadata": {},
   "outputs": [
    {
     "data": {
      "text/plain": [
       "25"
      ]
     },
     "execution_count": 4,
     "metadata": {},
     "output_type": "execute_result"
    }
   ],
   "source": [
    "int(25)\n"
   ]
  },
  {
   "cell_type": "code",
   "execution_count": 5,
   "id": "1e599363",
   "metadata": {},
   "outputs": [
    {
     "name": "stdout",
     "output_type": "stream",
     "text": [
      "10.0\n"
     ]
    }
   ],
   "source": [
    "num = input(\"Enter a number to be doubled: \")\n",
    "doubled_num = float(5) * 2\n",
    "print(doubled_num)"
   ]
  },
  {
   "cell_type": "code",
   "execution_count": 12,
   "id": "30df1236",
   "metadata": {},
   "outputs": [
    {
     "data": {
      "text/plain": [
       "'I am going to eat 10 potpies.'"
      ]
     },
     "execution_count": 12,
     "metadata": {},
     "output_type": "execute_result"
    }
   ],
   "source": [
    "#you can’t concatenate number with strings. To build strings with number you need to convert\n",
    "# the number to string using the it with the str() function\n",
    "num_of_potpies = 10\n",
    "\"I am going to eat \" + str(num_of_potpies) + \" potpies.\""
   ]
  },
  {
   "cell_type": "code",
   "execution_count": 45,
   "id": "4498c9a1",
   "metadata": {},
   "outputs": [
    {
     "data": {
      "text/plain": [
       "'Jibbs only drank 15 bottles of orange juice.'"
      ]
     },
     "execution_count": 45,
     "metadata": {},
     "output_type": "execute_result"
    }
   ],
   "source": [
    "total_orange_juice = 50\n",
    "total_orange_juice_left = 35\n",
    "\"Jibbs only drank \" + str(total_orange_juice - total_orange_juice_left) + \" bottles of orange juice.\""
   ]
  },
  {
   "cell_type": "code",
   "execution_count": 21,
   "id": "acff49c0",
   "metadata": {},
   "outputs": [
    {
     "data": {
      "text/plain": [
       "'Funsho has 2 heads and 4 hands.'"
      ]
     },
     "execution_count": 21,
     "metadata": {},
     "output_type": "execute_result"
    }
   ],
   "source": [
    "#String interpolation\n",
    "Heads = 2\n",
    "Hands = 4\n",
    "\"Funsho has \" +  str(Heads) + \" heads and \" + str(Hands) + \" hands.\"\n"
   ]
  },
  {
   "cell_type": "code",
   "execution_count": 24,
   "id": "920f881c",
   "metadata": {},
   "outputs": [
    {
     "data": {
      "text/plain": [
       "'Funsho has 2 heads and 4 hands.'"
      ]
     },
     "execution_count": 24,
     "metadata": {},
     "output_type": "execute_result"
    }
   ],
   "source": [
    "#f strings is a better way to interploate strings cleanly\n",
    "#f strings (formated string laterals)\n",
    "Heads = 2\n",
    "Hands = 4\n",
    "f\"Funsho has {Heads} heads and {Hands} hands.\"\n"
   ]
  },
  {
   "cell_type": "code",
   "execution_count": 25,
   "id": "54d667e9",
   "metadata": {},
   "outputs": [
    {
     "data": {
      "text/plain": [
       "'60'"
      ]
     },
     "execution_count": 25,
     "metadata": {},
     "output_type": "execute_result"
    }
   ],
   "source": [
    "n = 5\n",
    "w = 12\n",
    "f\"{n*w}\""
   ]
  },
  {
   "cell_type": "code",
   "execution_count": 35,
   "id": "597b60a8",
   "metadata": {},
   "outputs": [
    {
     "data": {
      "text/plain": [
       "'0.2 kg is the weight of the newt'"
      ]
     },
     "execution_count": 35,
     "metadata": {},
     "output_type": "execute_result"
    }
   ],
   "source": [
    "#Create a float object named weight with the value 0.2, and create a string object named animal \n",
    "# with the value \"newt\". Then use these objects to print the following string using only string \n",
    "# concatenation\n",
    "weight = float (0.2)\n",
    "animal = \"newt\"\n",
    "str(weight) + \" kg is the weight of the \" + (animal)"
   ]
  },
  {
   "cell_type": "code",
   "execution_count": 36,
   "id": "a27daa59",
   "metadata": {},
   "outputs": [
    {
     "data": {
      "text/plain": [
       "'0.2 is the weight of the newt'"
      ]
     },
     "execution_count": 36,
     "metadata": {},
     "output_type": "execute_result"
    }
   ],
   "source": [
    "#using and f-string\n",
    "f\"{weight} is the weight of the {animal}\" "
   ]
  },
  {
   "cell_type": "code",
   "execution_count": null,
   "id": "4953a892",
   "metadata": {},
   "outputs": [
    {
     "data": {
      "text/plain": [
       "46"
      ]
     },
     "execution_count": 39,
     "metadata": {},
     "output_type": "execute_result"
    }
   ],
   "source": [
    "#you can find a the location of a substring inside a string using the .find() function\n",
    "#if the substring is not n the phrase, python gives a -1 response.\n",
    "Phrase = \"Edet lives in Calabar, he is eight years old, everyday he goes to school.\"\n",
    "Phrase.find(\"everyday\")\n",
    " "
   ]
  },
  {
   "cell_type": "code",
   "execution_count": 43,
   "id": "6401c2cd",
   "metadata": {},
   "outputs": [
    {
     "data": {
      "text/plain": [
       "13"
      ]
     },
     "execution_count": 43,
     "metadata": {},
     "output_type": "execute_result"
    }
   ],
   "source": [
    "Phrase = \"We can put a string in a string\"\n",
    "Phrase.find(\"string\")"
   ]
  },
  {
   "cell_type": "code",
   "execution_count": 44,
   "id": "bb3a2a9c",
   "metadata": {},
   "outputs": [
    {
     "data": {
      "text/plain": [
       "13"
      ]
     },
     "execution_count": 44,
     "metadata": {},
     "output_type": "execute_result"
    }
   ],
   "source": [
    "#the .find() function can only locate strings and not integers.\n",
    "#to find an integer \n",
    "\"My number is 555-555-5555\".find(\"5\")"
   ]
  },
  {
   "cell_type": "code",
   "execution_count": 47,
   "id": "b754a4d2",
   "metadata": {},
   "outputs": [
    {
     "data": {
      "text/plain": [
       "\"I'm telling you lies; nothing but lies!\""
      ]
     },
     "execution_count": 47,
     "metadata": {},
     "output_type": "execute_result"
    }
   ],
   "source": [
    "my_story = \"I'm telling you the truth; nothing but the truth!\"\n",
    "my_story.replace(\"the truth\", \"lies\")"
   ]
  },
  {
   "cell_type": "code",
   "execution_count": 48,
   "id": "2573dab2",
   "metadata": {},
   "outputs": [
    {
     "data": {
      "text/plain": [
       "\"I'm telling you lies; nothing but lies!\""
      ]
     },
     "execution_count": 48,
     "metadata": {},
     "output_type": "execute_result"
    }
   ],
   "source": [
    "my_story = my_story.replace(\"the truth\", \"lies\")\n",
    "my_story"
   ]
  },
  {
   "cell_type": "code",
   "execution_count": 49,
   "id": "993209de",
   "metadata": {},
   "outputs": [
    {
     "data": {
      "text/plain": [
       "'Everyone you meet are friendly and great'"
      ]
     },
     "execution_count": 49,
     "metadata": {},
     "output_type": "execute_result"
    }
   ],
   "source": [
    "Text = \"Some people you meet are wonderful and great\"\n",
    "New_text = Text.replace(\"Some people\", \"Everyone\")\n",
    "New_text = New_text.replace(\"wonderful\", \"friendly\")\n",
    "New_text"
   ]
  },
  {
   "cell_type": "code",
   "execution_count": 50,
   "id": "8ddb4010",
   "metadata": {},
   "outputs": [
    {
     "data": {
      "text/plain": [
       "int"
      ]
     },
     "execution_count": 50,
     "metadata": {},
     "output_type": "execute_result"
    }
   ],
   "source": [
    "type(1)"
   ]
  },
  {
   "cell_type": "code",
   "execution_count": 51,
   "id": "7633a24c",
   "metadata": {},
   "outputs": [
    {
     "data": {
      "text/plain": [
       "float"
      ]
     },
     "execution_count": 51,
     "metadata": {},
     "output_type": "execute_result"
    }
   ],
   "source": [
    "type(2.0)"
   ]
  },
  {
   "cell_type": "code",
   "execution_count": 52,
   "id": "8ef6baf7",
   "metadata": {},
   "outputs": [
    {
     "data": {
      "text/plain": [
       "2.2"
      ]
     },
     "execution_count": 52,
     "metadata": {},
     "output_type": "execute_result"
    }
   ],
   "source": [
    "float(\"2.20\")"
   ]
  },
  {
   "cell_type": "code",
   "execution_count": 53,
   "id": "eb37c840",
   "metadata": {},
   "outputs": [
    {
     "data": {
      "text/plain": [
       "1000000.0"
      ]
     },
     "execution_count": 53,
     "metadata": {},
     "output_type": "execute_result"
    }
   ],
   "source": [
    "#exponential notation\n",
    "1e6"
   ]
  },
  {
   "cell_type": "code",
   "execution_count": 54,
   "id": "b1d3f8df",
   "metadata": {},
   "outputs": [
    {
     "data": {
      "text/plain": [
       "1000000.0"
      ]
     },
     "execution_count": 54,
     "metadata": {},
     "output_type": "execute_result"
    }
   ],
   "source": [
    "#you can also write a float literal in E notation. e.g. 1e6 = 1 x 10`6 and 2e8 = 2x10'8\n",
    "1e6"
   ]
  },
  {
   "cell_type": "code",
   "execution_count": 55,
   "id": "0914d7cd",
   "metadata": {},
   "outputs": [
    {
     "data": {
      "text/plain": [
       "20000000000.0"
      ]
     },
     "execution_count": 55,
     "metadata": {},
     "output_type": "execute_result"
    }
   ],
   "source": [
    "2e10"
   ]
  },
  {
   "cell_type": "code",
   "execution_count": 57,
   "id": "5fdac146",
   "metadata": {},
   "outputs": [
    {
     "data": {
      "text/plain": [
       "600000.0"
      ]
     },
     "execution_count": 57,
     "metadata": {},
     "output_type": "execute_result"
    }
   ],
   "source": [
    "6e+5"
   ]
  },
  {
   "cell_type": "code",
   "execution_count": null,
   "id": "4492693b",
   "metadata": {},
   "outputs": [
    {
     "data": {
      "text/plain": [
       "0.0001"
      ]
     },
     "execution_count": 56,
     "metadata": {},
     "output_type": "execute_result"
    }
   ],
   "source": [
    "# E notation can also create floats in the negative\n",
    "1e-4"
   ]
  },
  {
   "cell_type": "code",
   "execution_count": 58,
   "id": "ebaff0ff",
   "metadata": {},
   "outputs": [
    {
     "data": {
      "text/plain": [
       "5"
      ]
     },
     "execution_count": 58,
     "metadata": {},
     "output_type": "execute_result"
    }
   ],
   "source": [
    "#the two number son either sides of + are known as OPERANDS\n",
    "2 + 3"
   ]
  },
  {
   "cell_type": "code",
   "execution_count": 59,
   "id": "34fc3982",
   "metadata": {},
   "outputs": [
    {
     "data": {
      "text/plain": [
       "11.0"
      ]
     },
     "execution_count": 59,
     "metadata": {},
     "output_type": "execute_result"
    }
   ],
   "source": [
    "5.0 + 6"
   ]
  },
  {
   "cell_type": "code",
   "execution_count": 60,
   "id": "3b94023c",
   "metadata": {},
   "outputs": [
    {
     "data": {
      "text/plain": [
       "3"
      ]
     },
     "execution_count": 60,
     "metadata": {},
     "output_type": "execute_result"
    }
   ],
   "source": [
    "6 - 3"
   ]
  },
  {
   "cell_type": "code",
   "execution_count": 62,
   "id": "a7410974",
   "metadata": {},
   "outputs": [
    {
     "data": {
      "text/plain": [
       "5"
      ]
     },
     "execution_count": 62,
     "metadata": {},
     "output_type": "execute_result"
    }
   ],
   "source": [
    "4 - -1"
   ]
  },
  {
   "cell_type": "code",
   "execution_count": 61,
   "id": "f423a370",
   "metadata": {},
   "outputs": [
    {
     "data": {
      "text/plain": [
       "40"
      ]
     },
     "execution_count": 61,
     "metadata": {},
     "output_type": "execute_result"
    }
   ],
   "source": [
    "5*8"
   ]
  },
  {
   "cell_type": "code",
   "execution_count": 63,
   "id": "d870fee1",
   "metadata": {},
   "outputs": [
    {
     "data": {
      "text/plain": [
       "3.0"
      ]
     },
     "execution_count": 63,
     "metadata": {},
     "output_type": "execute_result"
    }
   ],
   "source": [
    "9/3"
   ]
  },
  {
   "cell_type": "code",
   "execution_count": 64,
   "id": "a0208b37",
   "metadata": {},
   "outputs": [
    {
     "data": {
      "text/plain": [
       "3"
      ]
     },
     "execution_count": 64,
     "metadata": {},
     "output_type": "execute_result"
    }
   ],
   "source": [
    "#To return an integer even when the correct answer is a float use the int() function\n",
    "int(7.0/2)"
   ]
  },
  {
   "cell_type": "code",
   "execution_count": null,
   "id": "3a7d684d",
   "metadata": {},
   "outputs": [
    {
     "data": {
      "text/plain": [
       "3.0"
      ]
     },
     "execution_count": 65,
     "metadata": {},
     "output_type": "execute_result"
    }
   ],
   "source": [
    "#To make the above even more easier, use the floor division operator(//) \n",
    "7.0//2 "
   ]
  },
  {
   "cell_type": "code",
   "execution_count": null,
   "id": "a566b271",
   "metadata": {},
   "outputs": [
    {
     "data": {
      "text/plain": [
       "25"
      ]
     },
     "execution_count": 66,
     "metadata": {},
     "output_type": "execute_result"
    }
   ],
   "source": [
    "#you can raise a number to a power using (**) operator or the pow()\n",
    "5**2"
   ]
  },
  {
   "cell_type": "code",
   "execution_count": 67,
   "id": "2e68e1cc",
   "metadata": {},
   "outputs": [
    {
     "data": {
      "text/plain": [
       "1"
      ]
     },
     "execution_count": 67,
     "metadata": {},
     "output_type": "execute_result"
    }
   ],
   "source": [
    "#The % operator, or modulus, returns the remainder of dividing the left operand by the right operand\n",
    "7%2"
   ]
  },
  {
   "cell_type": "code",
   "execution_count": 68,
   "id": "c4b36a99",
   "metadata": {},
   "outputs": [
    {
     "data": {
      "text/plain": [
       "125"
      ]
     },
     "execution_count": 68,
     "metadata": {},
     "output_type": "execute_result"
    }
   ],
   "source": [
    "Base = 5\n",
    "Exp = 3\n",
    "Base**Exp"
   ]
  },
  {
   "cell_type": "code",
   "execution_count": null,
   "id": "b8a6b778",
   "metadata": {},
   "outputs": [
    {
     "data": {
      "text/plain": [
       "96"
      ]
     },
     "execution_count": 69,
     "metadata": {},
     "output_type": "execute_result"
    }
   ],
   "source": [
    "#Other math fucntions include; round(), for rounding numbers; abs(), for getting the absolute value \n",
    "# of a number; and pow(), for raising a number to some power, same as the (**).\n",
    "round(95.679037)"
   ]
  },
  {
   "cell_type": "code",
   "execution_count": 70,
   "id": "ec658ac6",
   "metadata": {},
   "outputs": [
    {
     "data": {
      "text/plain": [
       "64.435812"
      ]
     },
     "execution_count": 70,
     "metadata": {},
     "output_type": "execute_result"
    }
   ],
   "source": [
    "#To round of to a certain decimal place\n",
    "round(64.435812398633, 6)"
   ]
  },
  {
   "cell_type": "code",
   "execution_count": 71,
   "id": "12522eec",
   "metadata": {},
   "outputs": [
    {
     "data": {
      "text/plain": [
       "(25, 45)"
      ]
     },
     "execution_count": 71,
     "metadata": {},
     "output_type": "execute_result"
    }
   ],
   "source": [
    "#abs value\n",
    "abs(25) , abs(-45)"
   ]
  },
  {
   "cell_type": "code",
   "execution_count": 72,
   "id": "f09e9387",
   "metadata": {},
   "outputs": [
    {
     "data": {
      "text/plain": [
       "8"
      ]
     },
     "execution_count": 72,
     "metadata": {},
     "output_type": "execute_result"
    }
   ],
   "source": [
    "x = 2\n",
    "y = 5\n",
    "z = 12\n",
    "pow(x, y, z)"
   ]
  },
  {
   "cell_type": "code",
   "execution_count": null,
   "id": "542806ee",
   "metadata": {},
   "outputs": [
    {
     "data": {
      "text/plain": [
       "False"
      ]
     },
     "execution_count": 1,
     "metadata": {},
     "output_type": "execute_result"
    }
   ],
   "source": [
    "# The .is_integer() method can be useful for validating user input.\n",
    "num = 234.57\n",
    "num.is_integer()"
   ]
  },
  {
   "cell_type": "code",
   "execution_count": 2,
   "id": "b1071a11",
   "metadata": {},
   "outputs": [
    {
     "data": {
      "text/plain": [
       "'The value of n is 73.125'"
      ]
     },
     "execution_count": 2,
     "metadata": {},
     "output_type": "execute_result"
    }
   ],
   "source": [
    "n = 73.125\n",
    "f\"The value of n is {n}\""
   ]
  },
  {
   "cell_type": "code",
   "execution_count": 10,
   "id": "9729cdc7",
   "metadata": {},
   "outputs": [
    {
     "data": {
      "text/plain": [
       "('The value of n is 12.57', 'The value of n is 12.6')"
      ]
     },
     "execution_count": 10,
     "metadata": {},
     "output_type": "execute_result"
    }
   ],
   "source": [
    "#use this {n:.2f}alongside f-string to format the value of n to 2 decimal place\n",
    "#and {n:.1f} to 1 decimal place\n",
    "n = 12.5684902\n",
    "f\"The value of n is {n:.2f}\" , f\"The value of n is {n:.1f}\""
   ]
  },
  {
   "cell_type": "code",
   "execution_count": 11,
   "id": "96706ded",
   "metadata": {},
   "outputs": [
    {
     "data": {
      "text/plain": [
       "'The value of n is 89,354,801,536,946'"
      ]
     },
     "execution_count": 11,
     "metadata": {},
     "output_type": "execute_result"
    }
   ],
   "source": [
    "#you can use the f\"The value of n is {n:,}\", to group numbers by the thousands by adding commas(,)\n",
    "n = 89354801536946\n",
    "f\"The value of n is {n:,}\""
   ]
  },
  {
   "cell_type": "code",
   "execution_count": 13,
   "id": "19f563eb",
   "metadata": {},
   "outputs": [
    {
     "data": {
      "text/plain": [
       "'The value of n is 24,568.68'"
      ]
     },
     "execution_count": 13,
     "metadata": {},
     "output_type": "execute_result"
    }
   ],
   "source": [
    "#use this f\"The value of n is {n:,.2f}\", to group by thousands and format to 2 decimal place\n",
    "n = 24568.6790\n",
    "f\"The value of n is {n:,.2f}\""
   ]
  },
  {
   "cell_type": "code",
   "execution_count": 18,
   "id": "04762dff",
   "metadata": {},
   "outputs": [
    {
     "data": {
      "text/plain": [
       "'I started the day with £2000.000, spent £256.350 , and had £1743.650 left at the end of the day.'"
      ]
     },
     "execution_count": 18,
     "metadata": {},
     "output_type": "execute_result"
    }
   ],
   "source": [
    "#Example \n",
    "balance = 2000.0\n",
    "spent = 256.35\n",
    "remaining = balance - spent\n",
    "f\"I started the day with £{balance:.3f}, spent £{spent:.3f} , and had £{remaining:.3f} left at the end of the day.\""
   ]
  },
  {
   "cell_type": "code",
   "execution_count": 21,
   "id": "e9cc5d39",
   "metadata": {},
   "outputs": [
    {
     "data": {
      "text/plain": [
       "'Over 26.00% of people in the world are left handed.'"
      ]
     },
     "execution_count": 21,
     "metadata": {},
     "output_type": "execute_result"
    }
   ],
   "source": [
    "# use f\"Over {ratio:.2%} to display percentage with 2 decimal places\n",
    "ratio = 0.26\n",
    "f\"Over {ratio:.2%} of people in the world are left handed.\""
   ]
  },
  {
   "cell_type": "code",
   "execution_count": 22,
   "id": "8d6e45d2",
   "metadata": {},
   "outputs": [
    {
     "data": {
      "text/plain": [
       "(1+2j)"
      ]
     },
     "execution_count": 22,
     "metadata": {},
     "output_type": "execute_result"
    }
   ],
   "source": [
    "#complex number (real and imaginary number)\n",
    "n = 1 + 2j\n",
    "n"
   ]
  },
  {
   "cell_type": "code",
   "execution_count": null,
   "id": "8e4be4b3",
   "metadata": {},
   "outputs": [
    {
     "data": {
      "text/plain": [
       "(1.0, 2.0)"
      ]
     },
     "execution_count": 25,
     "metadata": {},
     "output_type": "execute_result"
    }
   ],
   "source": [
    "n.real, n.imag  #so, based on the above, real number is 1, and the imaginary number is 2"
   ]
  },
  {
   "cell_type": "code",
   "execution_count": 27,
   "id": "47dea2ca",
   "metadata": {},
   "outputs": [
    {
     "data": {
      "text/plain": [
       "(1-2j)"
      ]
     },
     "execution_count": 27,
     "metadata": {},
     "output_type": "execute_result"
    }
   ],
   "source": [
    "n.conjugate() #with complex number (real and imaginary), n.conjugate()returns the \n",
    "#exact number but with a differnt sign"
   ]
  },
  {
   "cell_type": "code",
   "execution_count": 28,
   "id": "b342b414",
   "metadata": {},
   "outputs": [
    {
     "data": {
      "text/plain": [
       "((4-2j), (-2+6j), (11+2j), (932.1391946432212+95.9465336603415j), (-0.2+0.4j))"
      ]
     },
     "execution_count": 28,
     "metadata": {},
     "output_type": "execute_result"
    }
   ],
   "source": [
    "a = 1 + 2j\n",
    "b = 3 - 4j\n",
    "a + b , a - b , a * b , a ** b , a / b "
   ]
  }
 ],
 "metadata": {
  "kernelspec": {
   "display_name": "Python 3",
   "language": "python",
   "name": "python3"
  },
  "language_info": {
   "codemirror_mode": {
    "name": "ipython",
    "version": 3
   },
   "file_extension": ".py",
   "mimetype": "text/x-python",
   "name": "python",
   "nbconvert_exporter": "python",
   "pygments_lexer": "ipython3",
   "version": "3.13.7"
  }
 },
 "nbformat": 4,
 "nbformat_minor": 5
}
