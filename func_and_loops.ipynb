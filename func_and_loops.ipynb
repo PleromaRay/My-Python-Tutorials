{
 "cells": [
  {
   "cell_type": "code",
   "execution_count": null,
   "id": "80c9222c",
   "metadata": {},
   "outputs": [],
   "source": [
    "#Functions break code into smaller chunks and are great for defining actions that a program will execute several \n",
    "# times throughout your code.\n",
    "#The process for executing a function is in three steps: 1. The function is called (arguments are passed as input)\n",
    "#2. The function executes (some action is performed with the arguments).3. The function returns,(original function call is replaced with the return value.)"
   ]
  }
 ],
 "metadata": {
  "language_info": {
   "name": "python"
  }
 },
 "nbformat": 4,
 "nbformat_minor": 5
}
