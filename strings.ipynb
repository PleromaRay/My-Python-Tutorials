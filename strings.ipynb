{
 "cells": [
  {
   "cell_type": "markdown",
   "id": "bc6a7464",
   "metadata": {},
   "source": [
    "# Strings"
   ]
  },
  {
   "cell_type": "code",
   "execution_count": 68,
   "id": "95da7e16",
   "metadata": {},
   "outputs": [],
   "source": [
    "string1 = 'This is a string'\n",
    "string2 = 'This is also a string'"
   ]
  },
  {
   "cell_type": "code",
   "execution_count": 69,
   "id": "b2b44f88",
   "metadata": {},
   "outputs": [
    {
     "name": "stdout",
     "output_type": "stream",
     "text": [
      "This is also a string\n",
      "This is a string\n"
     ]
    }
   ],
   "source": [
    "print(string2)\n",
    "print(string1)"
   ]
  },
  {
   "cell_type": "code",
   "execution_count": 70,
   "id": "d2636163",
   "metadata": {},
   "outputs": [
    {
     "data": {
      "text/plain": [
       "str"
      ]
     },
     "execution_count": 70,
     "metadata": {},
     "output_type": "execute_result"
    }
   ],
   "source": [
    "type(\"Hello, World\")"
   ]
  },
  {
   "cell_type": "code",
   "execution_count": 71,
   "id": "a40b14dd",
   "metadata": {},
   "outputs": [],
   "source": [
    "string1 = 'Hello, World'\n",
    "string2 = \"1234\"\n",
    "string3 = \"We're #1!\"\n",
    "string4 = 'I said \"put it over by Ilama\"'\n",
    "#you can either have single quotes (string1) or double quote (string2) to create a string\n",
    "#long as you use the same type at the beginning and end of the string. "
   ]
  },
  {
   "cell_type": "code",
   "execution_count": 72,
   "id": "c236d95d",
   "metadata": {},
   "outputs": [
    {
     "data": {
      "text/plain": [
       "3"
      ]
     },
     "execution_count": 72,
     "metadata": {},
     "output_type": "execute_result"
    }
   ],
   "source": [
    "#use len to call the length of a string. Example\n",
    "len(\"abc\")\n",
    "\n",
    "#OR\n",
    "\n",
    "letters = 'abc'\n",
    "len(letters)"
   ]
  },
  {
   "cell_type": "code",
   "execution_count": null,
   "id": "231b01c2",
   "metadata": {},
   "outputs": [
    {
     "name": "stdout",
     "output_type": "stream",
     "text": [
      "long_string\n",
      "One example is osteoporosis, which was officially recognized as a disease by WHO in 1994, being previously considered \n",
      "as unavoidable part of normal ageing. Disease, for practical purposes however, can be defined as any abnormality or failure of the body\n",
      "to function properly that may require medical treatment. Pathology is the scientific study of diseases. \n",
      "Health, therefore,  can be defined as the absence of signs and symptoms associated with any disease.\n"
     ]
    },
    {
     "name": "stderr",
     "output_type": "stream",
     "text": [
      "<>:7: SyntaxWarning: invalid escape sequence '\\D'\n",
      "<>:7: SyntaxWarning: invalid escape sequence '\\D'\n",
      "C:\\Users\\pc\\AppData\\Local\\Temp\\ipykernel_10784\\604439426.py:7: SyntaxWarning: invalid escape sequence '\\D'\n",
      "  paragraph =  \"One example is osteoporosis, which was officially recognized as a disease\\by WHO in 1994, being previously considered as unavoidable part of normal ageing.\\Disease, for practical purposes however, can be defined as any abnormality or failure of the body\\\n"
     ]
    }
   ],
   "source": [
    "#Multi line strings\n",
    "#python code recommends that a string only contain 79 characters; space inclusive.\n",
    "#to create string literals that are longer than the prescribed limit you need to break them up using a backslash(\\)\n",
    "\n",
    "#Example\n",
    "\n",
    "paragraph =  \"One example is osteoporosis, which was officially recognized as a disease\\by WHO in 1994, being previously considered as unavoidable part of normal ageing.\\Disease, for practical purposes however, can be defined as any abnormality or failure of the body\\\n",
    "to function properly that may require medical treatment.\\Pathology is the scientific study of diseases. Health, therefore,  can be defined as\\the absence of signs and symptoms associated with any disease.\"\n",
    "\n",
    "long_string = \"paragraph\"\n",
    "print(\"long_string\")\n",
    "\n",
    "#you can also create a multi line string using triple quotes (\"\"\" or \"\"). This would preserve whitelines\n",
    "#and would display the string on multiple lines, just as it appears in the string literal.\n",
    "\n",
    "#Example\n",
    "paragraph1 = \"\"\"One example is osteoporosis, which was officially recognized as a disease by WHO in 1994, being previously considered \n",
    "as unavoidable part of normal ageing. Disease, for practical purposes however, can be defined as any abnormality or failure of the body\n",
    "to function properly that may require medical treatment. Pathology is the scientific study of diseases. \n",
    "Health, therefore,  can be defined as the absence of signs and symptoms associated with any disease.\"\"\"\n",
    "print(paragraph1)\n"
   ]
  },
  {
   "cell_type": "code",
   "execution_count": 74,
   "id": "9bab7907",
   "metadata": {},
   "outputs": [
    {
     "data": {
      "text/plain": [
       "'Racheal Ebosereme Orianele'"
      ]
     },
     "execution_count": 74,
     "metadata": {},
     "output_type": "execute_result"
    }
   ],
   "source": [
    "#Concatenation involves joining two or more strings. It is done using the (+) operator\n",
    "\n",
    "string1 = \"abra\"\n",
    "string2 = \"cadabra\"\n",
    "magic_string = string1 + string2\n",
    "magic_string\n",
    "\n",
    "#another example\n",
    "first_name = \"Racheal\"\n",
    "middle_name = \"Ebosereme\"\n",
    "last_name = \"Orianele\"\n",
    "full_name = first_name + \" \" + middle_name + \" \" + last_name\n",
    "full_name"
   ]
  },
  {
   "cell_type": "code",
   "execution_count": 75,
   "id": "37f221d0",
   "metadata": {},
   "outputs": [
    {
     "data": {
      "text/plain": [
       "'l'"
      ]
     },
     "execution_count": 75,
     "metadata": {},
     "output_type": "execute_result"
    }
   ],
   "source": [
    "#string indexing (every character in a string has an index, starting from 0)\n",
    "#to call the index of a charcter in a string you need to put the number between [square brackets]\n",
    "flavor = \"vanilla\"\n",
    "flavor[4]"
   ]
  },
  {
   "cell_type": "code",
   "execution_count": 76,
   "id": "e64db199",
   "metadata": {},
   "outputs": [
    {
     "data": {
      "text/plain": [
       "'i'"
      ]
     },
     "execution_count": 76,
     "metadata": {},
     "output_type": "execute_result"
    }
   ],
   "source": [
    "#indexing can also be in the negative; starting from behind\n",
    "flavor = \"vanilla\"\n",
    "flavor[-4]"
   ]
  },
  {
   "cell_type": "code",
   "execution_count": 77,
   "id": "07cf926b",
   "metadata": {},
   "outputs": [
    {
     "name": "stdout",
     "output_type": "stream",
     "text": [
      "Hello, World\n"
     ]
    }
   ],
   "source": [
    "#Variables\n",
    "    #assigns a value that can be used throughout your code\n",
    "    #variables can be long or short\n",
    "    #they may contain Upper case, lowercase, digits, underscore\n",
    "    #they cannot start with a digit\n",
    "\n",
    "greeting = \"Hello, World\"\n",
    "print(greeting)"
   ]
  },
  {
   "cell_type": "code",
   "execution_count": 78,
   "id": "7a07d2fc",
   "metadata": {},
   "outputs": [
    {
     "name": "stdout",
     "output_type": "stream",
     "text": [
      "2\n",
      "2\n"
     ]
    }
   ],
   "source": [
    "x = 2\n",
    "y = '2'\n",
    "print(x)\n",
    "print(y)"
   ]
  },
  {
   "cell_type": "code",
   "execution_count": 79,
   "id": "fb568921",
   "metadata": {},
   "outputs": [
    {
     "name": "stdout",
     "output_type": "stream",
     "text": [
      "Hello, World\n"
     ]
    }
   ],
   "source": [
    "#This is a block comment\n",
    "greeting = \"Hello, World\"\n",
    "print(greeting) #This is an inline comment"
   ]
  }
 ],
 "metadata": {
  "kernelspec": {
   "display_name": "Python 3",
   "language": "python",
   "name": "python3"
  },
  "language_info": {
   "codemirror_mode": {
    "name": "ipython",
    "version": 3
   },
   "file_extension": ".py",
   "mimetype": "text/x-python",
   "name": "python",
   "nbconvert_exporter": "python",
   "pygments_lexer": "ipython3",
   "version": "3.13.7"
  }
 },
 "nbformat": 4,
 "nbformat_minor": 5
}
