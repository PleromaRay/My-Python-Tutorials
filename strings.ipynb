{
 "cells": [
  {
   "cell_type": "markdown",
   "id": "bc6a7464",
   "metadata": {},
   "source": [
    "# Strings"
   ]
  },
  {
   "cell_type": "code",
   "execution_count": 6,
   "id": "95da7e16",
   "metadata": {},
   "outputs": [],
   "source": [
    "string1 = 'This is a string'\n",
    "string2 = 'This is also a string'"
   ]
  },
  {
   "cell_type": "code",
   "execution_count": 7,
   "id": "b2b44f88",
   "metadata": {},
   "outputs": [
    {
     "name": "stdout",
     "output_type": "stream",
     "text": [
      "This is also a string\n",
      "This is a string\n"
     ]
    }
   ],
   "source": [
    "print(string2)\n",
    "print(string1)"
   ]
  },
  {
   "cell_type": "code",
   "execution_count": 9,
   "id": "07cf926b",
   "metadata": {},
   "outputs": [
    {
     "name": "stdout",
     "output_type": "stream",
     "text": [
      "Hello, World\n"
     ]
    }
   ],
   "source": [
    "#Variables\n",
    "    #assigns a value that can be used throughout your code\n",
    "    #variables can be long or short\n",
    "    #they may contain Upper case, lowercase, digits, underscore\n",
    "    #they cannot start with a digit\n",
    "\n",
    "greeting = \"Hello, World\"\n",
    "print(greeting)"
   ]
  }
 ],
 "metadata": {
  "kernelspec": {
   "display_name": "Python 3",
   "language": "python",
   "name": "python3"
  },
  "language_info": {
   "codemirror_mode": {
    "name": "ipython",
    "version": 3
   },
   "file_extension": ".py",
   "mimetype": "text/x-python",
   "name": "python",
   "nbconvert_exporter": "python",
   "pygments_lexer": "ipython3",
   "version": "3.13.7"
  }
 },
 "nbformat": 4,
 "nbformat_minor": 5
}
