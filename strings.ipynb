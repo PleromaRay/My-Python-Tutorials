{
 "cells": [
  {
   "cell_type": "markdown",
   "id": "bc6a7464",
   "metadata": {},
   "source": [
    "# Strings"
   ]
  },
  {
   "cell_type": "code",
   "execution_count": null,
   "id": "95da7e16",
   "metadata": {},
   "outputs": [],
   "source": [
    "string1 = 'This is a string'"
   ]
  },
  {
   "cell_type": "code",
   "execution_count": null,
   "id": "b2b44f88",
   "metadata": {},
   "outputs": [],
   "source": [
    "print(string1)"
   ]
  }
 ],
 "metadata": {
  "kernelspec": {
   "display_name": "Python 3",
   "language": "python",
   "name": "python3"
  },
  "language_info": {
   "name": "python",
   "version": "3.13.7"
  }
 },
 "nbformat": 4,
 "nbformat_minor": 5
}
