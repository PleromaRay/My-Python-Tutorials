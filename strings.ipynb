{
 "cells": [
  {
   "cell_type": "markdown",
   "id": "bc6a7464",
   "metadata": {},
   "source": [
    "# Strings"
   ]
  },
  {
   "cell_type": "code",
   "execution_count": 68,
   "id": "95da7e16",
   "metadata": {},
   "outputs": [],
   "source": [
    "string1 = 'This is a string'\n",
    "string2 = 'This is also a string'"
   ]
  },
  {
   "cell_type": "code",
   "execution_count": 69,
   "id": "b2b44f88",
   "metadata": {},
   "outputs": [
    {
     "name": "stdout",
     "output_type": "stream",
     "text": [
      "This is also a string\n",
      "This is a string\n"
     ]
    }
   ],
   "source": [
    "print(string2)\n",
    "print(string1)"
   ]
  },
  {
   "cell_type": "code",
   "execution_count": 70,
   "id": "d2636163",
   "metadata": {},
   "outputs": [
    {
     "data": {
      "text/plain": [
       "str"
      ]
     },
     "execution_count": 70,
     "metadata": {},
     "output_type": "execute_result"
    }
   ],
   "source": [
    "type(\"Hello, World\")"
   ]
  },
  {
   "cell_type": "code",
   "execution_count": 71,
   "id": "a40b14dd",
   "metadata": {},
   "outputs": [],
   "source": [
    "string1 = 'Hello, World'\n",
    "string2 = \"1234\"\n",
    "string3 = \"We're #1!\"\n",
    "string4 = 'I said \"put it over by Ilama\"'\n",
    "#you can either have single quotes (string1) or double quote (string2) to create a string\n",
    "#long as you use the same type at the beginning and end of the string. "
   ]
  },
  {
   "cell_type": "code",
   "execution_count": 72,
   "id": "c236d95d",
   "metadata": {},
   "outputs": [
    {
     "data": {
      "text/plain": [
       "3"
      ]
     },
     "execution_count": 72,
     "metadata": {},
     "output_type": "execute_result"
    }
   ],
   "source": [
    "#use len to call the length of a string. Example\n",
    "len(\"abc\")\n",
    "\n",
    "#OR\n",
    "\n",
    "letters = 'abc'\n",
    "len(letters)"
   ]
  },
  {
   "cell_type": "code",
   "execution_count": 2,
   "id": "231b01c2",
   "metadata": {},
   "outputs": [
    {
     "name": "stdout",
     "output_type": "stream",
     "text": [
      "long_string\n",
      "One example is osteoporosis, which was officially recognized as a disease by WHO in 1994, \n",
      "being previously considered as unavoidable part of normal ageing. Disease, for practical purposes however,\n",
      "can be defined as any abnormality or failure of the body to function properly that may require medical \n",
      "treatment. Pathology is the scientific study of diseases. Health, therefore,  can be defined as the \n",
      "absence of signs and symptoms associated with any disease.\n"
     ]
    },
    {
     "name": "stderr",
     "output_type": "stream",
     "text": [
      "<>:7: SyntaxWarning: invalid escape sequence '\\D'\n",
      "<>:7: SyntaxWarning: invalid escape sequence '\\D'\n",
      "C:\\Users\\pc\\AppData\\Local\\Temp\\ipykernel_33696\\2632619082.py:7: SyntaxWarning: invalid escape sequence '\\D'\n",
      "  paragraph =  \"One example is osteoporosis, which was officially recognized as a disease\\by WHO in 1994, being previously considered as unavoidable part of normal ageing.\\Disease, for practical purposes however, can be defined as any abnormality or failure of the body\\\n"
     ]
    }
   ],
   "source": [
    "#Multi line strings\n",
    "#python code recommends that a string only contain 79 characters; space inclusive.\n",
    "#to create string literals that are longer than the prescribed limit you need to break them up using a backslash(\\)\n",
    "\n",
    "#Example\n",
    "\n",
    "paragraph =  \"One example is osteoporosis, which was officially recognized as a disease\\by WHO in 1994, being previously considered as unavoidable part of normal ageing.\\Disease, for practical purposes however, can be defined as any abnormality or failure of the body\\\n",
    "to function properly that may require medical treatment.\\Pathology is the scientific study of diseases. Health, therefore,  can be defined as\\the absence of signs and symptoms associated with any disease.\"\n",
    "\n",
    "long_string = \"paragraph\"\n",
    "print(\"long_string\")\n",
    "\n",
    "#you can also create a multi line string using triple double quotes or triple single quotes (\"\"\" or '''). This would preserve whitelines\n",
    "#and would display the string on multiple lines, just as it appears in the string literal.\n",
    "\n",
    "#Example\n",
    "paragraph1 = \"\"\"One example is osteoporosis, which was officially recognized as a disease by WHO in 1994, \n",
    "being previously considered as unavoidable part of normal ageing. Disease, for practical purposes however,\n",
    "can be defined as any abnormality or failure of the body to function properly that may require medical \n",
    "treatment. Pathology is the scientific study of diseases. Health, therefore,  can be defined as the \n",
    "absence of signs and symptoms associated with any disease.\"\"\"\n",
    "print(paragraph1)\n"
   ]
  },
  {
   "cell_type": "code",
   "execution_count": 74,
   "id": "9bab7907",
   "metadata": {},
   "outputs": [
    {
     "data": {
      "text/plain": [
       "'Racheal Ebosereme Orianele'"
      ]
     },
     "execution_count": 74,
     "metadata": {},
     "output_type": "execute_result"
    }
   ],
   "source": [
    "#Concatenation involves joining two or more strings. It is done using the (+) operator\n",
    "\n",
    "string1 = \"abra\"\n",
    "string2 = \"cadabra\"\n",
    "magic_string = string1 + string2\n",
    "magic_string\n",
    "\n",
    "#another example\n",
    "first_name = \"Racheal\"\n",
    "middle_name = \"Ebosereme\"\n",
    "last_name = \"Orianele\"\n",
    "full_name = first_name + \" \" + middle_name + \" \" + last_name\n",
    "full_name"
   ]
  },
  {
   "cell_type": "code",
   "execution_count": 82,
   "id": "e47ddd01",
   "metadata": {},
   "outputs": [
    {
     "data": {
      "text/plain": [
       "'Racheal Ebosereme Orianele'"
      ]
     },
     "execution_count": 82,
     "metadata": {},
     "output_type": "execute_result"
    }
   ],
   "source": [
    "first_name = \"Racheal\"\n",
    "middle_name = \"Ebosereme\"\n",
    "last_name = \"Orianele\"\n",
    "full_name = f\"{first_name} {middle_name} {last_name}\"\n",
    "full_name"
   ]
  },
  {
   "cell_type": "code",
   "execution_count": 75,
   "id": "37f221d0",
   "metadata": {},
   "outputs": [
    {
     "data": {
      "text/plain": [
       "'l'"
      ]
     },
     "execution_count": 75,
     "metadata": {},
     "output_type": "execute_result"
    }
   ],
   "source": [
    "#string indexing (every character in a string has an index, starting from 0)\n",
    "#to call the index of a charcter in a string you need to put the number between [square brackets]\n",
    "flavor = \"vanilla\"\n",
    "flavor[4]"
   ]
  },
  {
   "cell_type": "code",
   "execution_count": 76,
   "id": "e64db199",
   "metadata": {},
   "outputs": [
    {
     "data": {
      "text/plain": [
       "'i'"
      ]
     },
     "execution_count": 76,
     "metadata": {},
     "output_type": "execute_result"
    }
   ],
   "source": [
    "#indexing can also be in the negative; starting from behind\n",
    "flavor = \"vanilla\"\n",
    "flavor[-4]"
   ]
  },
  {
   "cell_type": "code",
   "execution_count": null,
   "id": "b41333e1",
   "metadata": {},
   "outputs": [
    {
     "data": {
      "text/plain": [
       "'vani'"
      ]
     },
     "execution_count": 3,
     "metadata": {},
     "output_type": "execute_result"
    }
   ],
   "source": [
    "#string slicing\n",
    "#You can extract a portion of a string aka Substring by inserting a colon \n",
    "# between the 2 index number and placing them in sqaure brackets [1:3]\n",
    "flavor = \"vanilla\"\n",
    "flavor[0:4]\n",
    "#you can also omit the first index when slicing strings, so\n",
    "flavor[:4] #will also give the same answer as flavor[0:4]\n",
    "\n",
    "#During slicing, think of a string as a sequence of square slots, with left and right boundaries\n",
    "# also numbered sequentially from 0 up to the length of the string. Each slot also has a character\n",
    "# in the string. e.g \"vanilla\""
   ]
  },
  {
   "cell_type": "code",
   "execution_count": 10,
   "id": "efc67ef3",
   "metadata": {},
   "outputs": [
    {
     "data": {
      "text/plain": [
       "'illa'"
      ]
     },
     "execution_count": 10,
     "metadata": {},
     "output_type": "execute_result"
    }
   ],
   "source": [
    "#Slicing (contd)\n",
    "#Similarly, if you omit the second index in the slice [3:], Python assumes you want to return the \n",
    "# substring that begins with the character whose index is the first number in the slice.\n",
    "flavor = \"vanilla\"\n",
    "flavor[3:] #is the same as flavor[3:7] and flavor [3:9]\n"
   ]
  },
  {
   "cell_type": "code",
   "execution_count": 11,
   "id": "4efd1da0",
   "metadata": {},
   "outputs": [
    {
     "data": {
      "text/plain": [
       "'vanilla'"
      ]
     },
     "execution_count": 11,
     "metadata": {},
     "output_type": "execute_result"
    }
   ],
   "source": [
    "#slicing contd\n",
    "#omitting both numbers in the slice returns the entire string\n",
    "flavor = \"vanilla\"\n",
    "flavor[:]\n"
   ]
  },
  {
   "cell_type": "code",
   "execution_count": null,
   "id": "d77c7818",
   "metadata": {},
   "outputs": [],
   "source": [
    "#Empty string\n",
    "#it is created by two empty quotation mark \"\"\n",
    "#a string is not empty even if it contains only a space.\n",
    "# \" \" - is not an empty string"
   ]
  },
  {
   "cell_type": "code",
   "execution_count": 19,
   "id": "0d5db2a5",
   "metadata": {},
   "outputs": [
    {
     "data": {
      "text/plain": [
       "'vanilla'"
      ]
     },
     "execution_count": 19,
     "metadata": {},
     "output_type": "execute_result"
    }
   ],
   "source": [
    "#You can use negative numbers in string slicing. #using 0 in the slice on the rightmost boundary\n",
    "#will return an empty string. The best option is to omit the second index in your slice.\n",
    "flavor = \"vanilla\"\n",
    "flavor[-8:] #flavour[-8:] will give you the entire string\n"
   ]
  },
  {
   "cell_type": "code",
   "execution_count": null,
   "id": "b323b040",
   "metadata": {},
   "outputs": [
    {
     "data": {
      "text/plain": [
       "'hill'"
      ]
     },
     "execution_count": 31,
     "metadata": {},
     "output_type": "execute_result"
    }
   ],
   "source": [
    "#Strings are immutable. To alter a string, you must create an entirely new string.\n",
    "# Example\n",
    "Word = \"till\"  #to alter this, you can concatenate\n",
    "Word = \"h\"+Word[1:]\n",
    "Word"
   ]
  },
  {
   "cell_type": "code",
   "execution_count": 36,
   "id": "1a218a14",
   "metadata": {},
   "outputs": [
    {
     "data": {
      "text/plain": [
       "'raychielle pleroma'"
      ]
     },
     "execution_count": 36,
     "metadata": {},
     "output_type": "execute_result"
    }
   ],
   "source": [
    "#Conversting string case\n",
    "#lowercase\n",
    "\"RAYCHIELLE PLEROMA\".lower()\n"
   ]
  },
  {
   "cell_type": "code",
   "execution_count": 37,
   "id": "5adc80e0",
   "metadata": {},
   "outputs": [
    {
     "data": {
      "text/plain": [
       "'RAYCHIELLE PLEROMA'"
      ]
     },
     "execution_count": 37,
     "metadata": {},
     "output_type": "execute_result"
    }
   ],
   "source": [
    "#uppercase\n",
    "\"raychielle pleroma\".upper()"
   ]
  },
  {
   "cell_type": "code",
   "execution_count": 12,
   "id": "1518b12e",
   "metadata": {},
   "outputs": [
    {
     "data": {
      "text/plain": [
       "'     racheal arike'"
      ]
     },
     "execution_count": 12,
     "metadata": {},
     "output_type": "execute_result"
    }
   ],
   "source": [
    "#to remove white spaces from strings .rstrip() - rightside, .lstrip() - leftside, and \n",
    "# .strip() - removes trailing whitespace from both sides\n",
    "# Example\n",
    "name1 = \"     racheal arike    \"\n",
    "name1\n",
    "name1.rstrip()"
   ]
  },
  {
   "cell_type": "code",
   "execution_count": 16,
   "id": "2817f6df",
   "metadata": {},
   "outputs": [
    {
     "data": {
      "text/plain": [
       "'racheal arike'"
      ]
     },
     "execution_count": 16,
     "metadata": {},
     "output_type": "execute_result"
    }
   ],
   "source": [
    "name1.strip()\n"
   ]
  },
  {
   "cell_type": "code",
   "execution_count": 18,
   "id": "6b7a25e6",
   "metadata": {},
   "outputs": [
    {
     "data": {
      "text/plain": [
       "'RACHEAL ARIKE'"
      ]
     },
     "execution_count": 18,
     "metadata": {},
     "output_type": "execute_result"
    }
   ],
   "source": [
    "fullname = name1.upper()\n",
    "fullname.strip()"
   ]
  },
  {
   "cell_type": "code",
   "execution_count": 21,
   "id": "f85461b4",
   "metadata": {},
   "outputs": [
    {
     "data": {
      "text/plain": [
       "True"
      ]
     },
     "execution_count": 21,
     "metadata": {},
     "output_type": "execute_result"
    }
   ],
   "source": [
    "#starts with and ends with commands are case sensitive\n",
    "Friendship = \"Beautiful\"\n",
    "Friendship.startswith(\"be\") #Returns FALSE because it is case sensitive \"Be\" and not \"be\"\n",
    "Friendship.startswith(\"Be\")"
   ]
  },
  {
   "cell_type": "code",
   "execution_count": null,
   "id": "b2ca4229",
   "metadata": {},
   "outputs": [
    {
     "data": {
      "text/plain": [
       "True"
      ]
     },
     "execution_count": 24,
     "metadata": {},
     "output_type": "execute_result"
    }
   ],
   "source": [
    "Friendship.endswith(\"ful\")  #True and False are not string, they are special data types known as BOOLEAN VALUE"
   ]
  },
  {
   "cell_type": "code",
   "execution_count": 1,
   "id": "336bb01d",
   "metadata": {},
   "outputs": [
    {
     "data": {
      "text/plain": [
       "'Hello there!'"
      ]
     },
     "execution_count": 1,
     "metadata": {},
     "output_type": "execute_result"
    }
   ],
   "source": [
    "input()   #a prompt is a string inbetween the parenthesis of input()\n",
    "'Hello there!'\n"
   ]
  },
  {
   "cell_type": "code",
   "execution_count": 2,
   "id": "bd1f8f42",
   "metadata": {},
   "outputs": [
    {
     "name": "stdout",
     "output_type": "stream",
     "text": [
      "You said: Hey, what's up?\n"
     ]
    }
   ],
   "source": [
    "prompt = \"Hey, what's up? \"\n",
    "user_input = input(prompt)\n",
    "print(\"You said: \" + user_input)"
   ]
  },
  {
   "cell_type": "code",
   "execution_count": 1,
   "id": "956f4d25",
   "metadata": {},
   "outputs": [
    {
     "name": "stdout",
     "output_type": "stream",
     "text": [
      "Hey, what's up?\n"
     ]
    }
   ],
   "source": [
    "prompt = \"Hey, what's up? \"\n",
    "user_input = input(prompt)\n",
    "print(user_input)"
   ]
  },
  {
   "cell_type": "code",
   "execution_count": 3,
   "id": "03536a04",
   "metadata": {},
   "outputs": [
    {
     "name": "stdout",
     "output_type": "stream",
     "text": [
      "Well, if you insist...\"WHAT SHOULD I SHOUT? \"\n"
     ]
    }
   ],
   "source": [
    "response = input(\"What should I shout? \")\n",
    "shouted_response = response.upper()\n",
    "print(\"Well, if you insist...\" + shouted_response)"
   ]
  },
  {
   "cell_type": "code",
   "execution_count": 6,
   "id": "4d95aa2f",
   "metadata": {},
   "outputs": [
    {
     "name": "stdout",
     "output_type": "stream",
     "text": [
      "\"what should i shout? \"\n"
     ]
    }
   ],
   "source": [
    "shouted_response = response.lower()\n",
    "print(shouted_response)"
   ]
  },
  {
   "cell_type": "code",
   "execution_count": 16,
   "id": "bf7bdffd",
   "metadata": {},
   "outputs": [
    {
     "name": "stdout",
     "output_type": "stream",
     "text": [
      "\"WHAT SHOULD I SHOUT? \"\n"
     ]
    }
   ],
   "source": [
    "#Write a program named first_letter.py that prompts the user for in-put with \n",
    "# the string \"Tell me your password:\". The program should then determine the \n",
    "# first letter of the user’s input, convert that letter to uppercase, and display it back.\n",
    "prompt = \"Tell me your password\"\n",
    "response = response.strip()\n",
    "print(response)"
   ]
  }
 ],
 "metadata": {
  "kernelspec": {
   "display_name": "Python 3",
   "language": "python",
   "name": "python3"
  },
  "language_info": {
   "codemirror_mode": {
    "name": "ipython",
    "version": 3
   },
   "file_extension": ".py",
   "mimetype": "text/x-python",
   "name": "python",
   "nbconvert_exporter": "python",
   "pygments_lexer": "ipython3",
   "version": "3.13.7"
  }
 },
 "nbformat": 4,
 "nbformat_minor": 5
}
